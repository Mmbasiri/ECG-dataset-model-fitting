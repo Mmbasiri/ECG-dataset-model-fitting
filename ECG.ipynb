{
  "cells": [
    {
      "cell_type": "code",
      "execution_count": 1,
      "metadata": {
        "id": "oZgghVdqD5B6"
      },
      "outputs": [],
      "source": [
        "import numpy as np\n",
        "import pandas as pd\n",
        "import matplotlib.pyplot as plt\n",
        "import seaborn as sns"
      ]
    },
    {
      "cell_type": "code",
      "execution_count": 25,
      "metadata": {
        "id": "MmrwrEX3Jmlj"
      },
      "outputs": [],
      "source": [
        "from sklearn.model_selection import train_test_split as tts\n",
        "from sklearn.preprocessing import scale\n",
        "from sklearn.linear_model import LogisticRegression\n",
        "from sklearn.neighbors import KNeighborsClassifier\n",
        "from sklearn.tree import DecisionTreeClassifier\n",
        "from sklearn.svm import SVC\n",
        "from sklearn.naive_bayes import GaussianNB\n",
        "from sklearn.ensemble import RandomForestClassifier , AdaBoostClassifier ,GradientBoostingClassifier\n",
        "from sklearn.neural_network import MLPClassifier"
      ]
    },
    {
      "cell_type": "code",
      "execution_count": 15,
      "metadata": {
        "colab": {
          "base_uri": "https://localhost:8080/",
          "height": 488
        },
        "id": "UIcEOfDFK8QS",
        "outputId": "f042122a-1bc4-4b3a-b2fe-a1bdac6cd56e"
      },
      "outputs": [
        {
          "data": {
            "text/html": [
              "\n",
              "  <div id=\"df-5ba56d9f-f8ea-44c1-831d-07a7fc34a186\">\n",
              "    <div class=\"colab-df-container\">\n",
              "      <div>\n",
              "<style scoped>\n",
              "    .dataframe tbody tr th:only-of-type {\n",
              "        vertical-align: middle;\n",
              "    }\n",
              "\n",
              "    .dataframe tbody tr th {\n",
              "        vertical-align: top;\n",
              "    }\n",
              "\n",
              "    .dataframe thead th {\n",
              "        text-align: right;\n",
              "    }\n",
              "</style>\n",
              "<table border=\"1\" class=\"dataframe\">\n",
              "  <thead>\n",
              "    <tr style=\"text-align: right;\">\n",
              "      <th></th>\n",
              "      <th>-0.11252183</th>\n",
              "      <th>-2.8272038</th>\n",
              "      <th>-3.7738969</th>\n",
              "      <th>-4.3497511</th>\n",
              "      <th>-4.376041</th>\n",
              "      <th>-3.4749863</th>\n",
              "      <th>-2.1814082</th>\n",
              "      <th>-1.8182865</th>\n",
              "      <th>-1.2505219</th>\n",
              "      <th>-0.47749208</th>\n",
              "      <th>...</th>\n",
              "      <th>0.79216787</th>\n",
              "      <th>0.93354122</th>\n",
              "      <th>0.79695779</th>\n",
              "      <th>0.57862066</th>\n",
              "      <th>0.2577399</th>\n",
              "      <th>0.22807718</th>\n",
              "      <th>0.12343082</th>\n",
              "      <th>0.92528624</th>\n",
              "      <th>0.19313742</th>\n",
              "      <th>1.0</th>\n",
              "    </tr>\n",
              "  </thead>\n",
              "  <tbody>\n",
              "    <tr>\n",
              "      <th>0</th>\n",
              "      <td>-1.100878</td>\n",
              "      <td>-3.996840</td>\n",
              "      <td>-4.285843</td>\n",
              "      <td>-4.506579</td>\n",
              "      <td>-4.022377</td>\n",
              "      <td>-3.234368</td>\n",
              "      <td>-1.566126</td>\n",
              "      <td>-0.992258</td>\n",
              "      <td>-0.754680</td>\n",
              "      <td>0.042321</td>\n",
              "      <td>...</td>\n",
              "      <td>0.538356</td>\n",
              "      <td>0.656881</td>\n",
              "      <td>0.787490</td>\n",
              "      <td>0.724046</td>\n",
              "      <td>0.555784</td>\n",
              "      <td>0.476333</td>\n",
              "      <td>0.773820</td>\n",
              "      <td>1.119621</td>\n",
              "      <td>-1.436250</td>\n",
              "      <td>1.0</td>\n",
              "    </tr>\n",
              "    <tr>\n",
              "      <th>1</th>\n",
              "      <td>-0.567088</td>\n",
              "      <td>-2.593450</td>\n",
              "      <td>-3.874230</td>\n",
              "      <td>-4.584095</td>\n",
              "      <td>-4.187449</td>\n",
              "      <td>-3.151462</td>\n",
              "      <td>-1.742940</td>\n",
              "      <td>-1.490659</td>\n",
              "      <td>-1.183580</td>\n",
              "      <td>-0.394229</td>\n",
              "      <td>...</td>\n",
              "      <td>0.886073</td>\n",
              "      <td>0.531452</td>\n",
              "      <td>0.311377</td>\n",
              "      <td>-0.021919</td>\n",
              "      <td>-0.713683</td>\n",
              "      <td>-0.532197</td>\n",
              "      <td>0.321097</td>\n",
              "      <td>0.904227</td>\n",
              "      <td>-0.421797</td>\n",
              "      <td>1.0</td>\n",
              "    </tr>\n",
              "    <tr>\n",
              "      <th>2</th>\n",
              "      <td>0.490473</td>\n",
              "      <td>-1.914407</td>\n",
              "      <td>-3.616364</td>\n",
              "      <td>-4.318823</td>\n",
              "      <td>-4.268016</td>\n",
              "      <td>-3.881110</td>\n",
              "      <td>-2.993280</td>\n",
              "      <td>-1.671131</td>\n",
              "      <td>-1.333884</td>\n",
              "      <td>-0.965629</td>\n",
              "      <td>...</td>\n",
              "      <td>0.350816</td>\n",
              "      <td>0.499111</td>\n",
              "      <td>0.600345</td>\n",
              "      <td>0.842069</td>\n",
              "      <td>0.952074</td>\n",
              "      <td>0.990133</td>\n",
              "      <td>1.086798</td>\n",
              "      <td>1.403011</td>\n",
              "      <td>-0.383564</td>\n",
              "      <td>1.0</td>\n",
              "    </tr>\n",
              "    <tr>\n",
              "      <th>3</th>\n",
              "      <td>0.800232</td>\n",
              "      <td>-0.874252</td>\n",
              "      <td>-2.384761</td>\n",
              "      <td>-3.973292</td>\n",
              "      <td>-4.338224</td>\n",
              "      <td>-3.802422</td>\n",
              "      <td>-2.534510</td>\n",
              "      <td>-1.783423</td>\n",
              "      <td>-1.594450</td>\n",
              "      <td>-0.753199</td>\n",
              "      <td>...</td>\n",
              "      <td>1.148884</td>\n",
              "      <td>0.958434</td>\n",
              "      <td>1.059025</td>\n",
              "      <td>1.371682</td>\n",
              "      <td>1.277392</td>\n",
              "      <td>0.960304</td>\n",
              "      <td>0.971020</td>\n",
              "      <td>1.614392</td>\n",
              "      <td>1.421456</td>\n",
              "      <td>1.0</td>\n",
              "    </tr>\n",
              "    <tr>\n",
              "      <th>4</th>\n",
              "      <td>-1.507674</td>\n",
              "      <td>-3.574550</td>\n",
              "      <td>-4.478011</td>\n",
              "      <td>-4.408275</td>\n",
              "      <td>-3.321242</td>\n",
              "      <td>-2.105171</td>\n",
              "      <td>-1.481048</td>\n",
              "      <td>-1.301362</td>\n",
              "      <td>-0.498240</td>\n",
              "      <td>-0.286928</td>\n",
              "      <td>...</td>\n",
              "      <td>1.089068</td>\n",
              "      <td>0.983369</td>\n",
              "      <td>1.014124</td>\n",
              "      <td>0.952629</td>\n",
              "      <td>0.749326</td>\n",
              "      <td>1.007076</td>\n",
              "      <td>1.634990</td>\n",
              "      <td>1.493365</td>\n",
              "      <td>-0.783134</td>\n",
              "      <td>1.0</td>\n",
              "    </tr>\n",
              "    <tr>\n",
              "      <th>...</th>\n",
              "      <td>...</td>\n",
              "      <td>...</td>\n",
              "      <td>...</td>\n",
              "      <td>...</td>\n",
              "      <td>...</td>\n",
              "      <td>...</td>\n",
              "      <td>...</td>\n",
              "      <td>...</td>\n",
              "      <td>...</td>\n",
              "      <td>...</td>\n",
              "      <td>...</td>\n",
              "      <td>...</td>\n",
              "      <td>...</td>\n",
              "      <td>...</td>\n",
              "      <td>...</td>\n",
              "      <td>...</td>\n",
              "      <td>...</td>\n",
              "      <td>...</td>\n",
              "      <td>...</td>\n",
              "      <td>...</td>\n",
              "      <td>...</td>\n",
              "    </tr>\n",
              "    <tr>\n",
              "      <th>4992</th>\n",
              "      <td>0.608558</td>\n",
              "      <td>-0.335651</td>\n",
              "      <td>-0.990948</td>\n",
              "      <td>-1.784153</td>\n",
              "      <td>-2.626145</td>\n",
              "      <td>-2.957065</td>\n",
              "      <td>-2.931897</td>\n",
              "      <td>-2.664816</td>\n",
              "      <td>-2.090137</td>\n",
              "      <td>-1.461841</td>\n",
              "      <td>...</td>\n",
              "      <td>1.757705</td>\n",
              "      <td>2.291923</td>\n",
              "      <td>2.704595</td>\n",
              "      <td>2.451519</td>\n",
              "      <td>2.017396</td>\n",
              "      <td>1.704358</td>\n",
              "      <td>1.688542</td>\n",
              "      <td>1.629593</td>\n",
              "      <td>1.342651</td>\n",
              "      <td>0.0</td>\n",
              "    </tr>\n",
              "    <tr>\n",
              "      <th>4993</th>\n",
              "      <td>-2.060402</td>\n",
              "      <td>-2.860116</td>\n",
              "      <td>-3.405074</td>\n",
              "      <td>-3.748719</td>\n",
              "      <td>-3.513561</td>\n",
              "      <td>-3.006545</td>\n",
              "      <td>-2.234850</td>\n",
              "      <td>-1.593270</td>\n",
              "      <td>-1.075279</td>\n",
              "      <td>-0.976047</td>\n",
              "      <td>...</td>\n",
              "      <td>1.388947</td>\n",
              "      <td>2.079675</td>\n",
              "      <td>2.433375</td>\n",
              "      <td>2.159484</td>\n",
              "      <td>1.819747</td>\n",
              "      <td>1.534767</td>\n",
              "      <td>1.696818</td>\n",
              "      <td>1.483832</td>\n",
              "      <td>1.047612</td>\n",
              "      <td>0.0</td>\n",
              "    </tr>\n",
              "    <tr>\n",
              "      <th>4994</th>\n",
              "      <td>-1.122969</td>\n",
              "      <td>-2.252925</td>\n",
              "      <td>-2.867628</td>\n",
              "      <td>-3.358605</td>\n",
              "      <td>-3.167849</td>\n",
              "      <td>-2.638360</td>\n",
              "      <td>-1.664162</td>\n",
              "      <td>-0.935655</td>\n",
              "      <td>-0.866953</td>\n",
              "      <td>-0.645363</td>\n",
              "      <td>...</td>\n",
              "      <td>-0.472419</td>\n",
              "      <td>-1.310147</td>\n",
              "      <td>-2.029521</td>\n",
              "      <td>-3.221294</td>\n",
              "      <td>-4.176790</td>\n",
              "      <td>-4.009720</td>\n",
              "      <td>-2.874136</td>\n",
              "      <td>-2.008369</td>\n",
              "      <td>-1.808334</td>\n",
              "      <td>0.0</td>\n",
              "    </tr>\n",
              "    <tr>\n",
              "      <th>4995</th>\n",
              "      <td>-0.547705</td>\n",
              "      <td>-1.889545</td>\n",
              "      <td>-2.839779</td>\n",
              "      <td>-3.457912</td>\n",
              "      <td>-3.929149</td>\n",
              "      <td>-3.966026</td>\n",
              "      <td>-3.492560</td>\n",
              "      <td>-2.695270</td>\n",
              "      <td>-1.849691</td>\n",
              "      <td>-1.374321</td>\n",
              "      <td>...</td>\n",
              "      <td>1.258419</td>\n",
              "      <td>1.907530</td>\n",
              "      <td>2.280888</td>\n",
              "      <td>1.895242</td>\n",
              "      <td>1.437702</td>\n",
              "      <td>1.193433</td>\n",
              "      <td>1.261335</td>\n",
              "      <td>1.150449</td>\n",
              "      <td>0.804932</td>\n",
              "      <td>0.0</td>\n",
              "    </tr>\n",
              "    <tr>\n",
              "      <th>4996</th>\n",
              "      <td>-1.351779</td>\n",
              "      <td>-2.209006</td>\n",
              "      <td>-2.520225</td>\n",
              "      <td>-3.061475</td>\n",
              "      <td>-3.065141</td>\n",
              "      <td>-3.030739</td>\n",
              "      <td>-2.622720</td>\n",
              "      <td>-2.044092</td>\n",
              "      <td>-1.295874</td>\n",
              "      <td>-0.733839</td>\n",
              "      <td>...</td>\n",
              "      <td>-1.512234</td>\n",
              "      <td>-2.076075</td>\n",
              "      <td>-2.586042</td>\n",
              "      <td>-3.322799</td>\n",
              "      <td>-3.627311</td>\n",
              "      <td>-3.437038</td>\n",
              "      <td>-2.260023</td>\n",
              "      <td>-1.577823</td>\n",
              "      <td>-0.684531</td>\n",
              "      <td>0.0</td>\n",
              "    </tr>\n",
              "  </tbody>\n",
              "</table>\n",
              "<p>4997 rows × 141 columns</p>\n",
              "</div>\n",
              "      <button class=\"colab-df-convert\" onclick=\"convertToInteractive('df-5ba56d9f-f8ea-44c1-831d-07a7fc34a186')\"\n",
              "              title=\"Convert this dataframe to an interactive table.\"\n",
              "              style=\"display:none;\">\n",
              "        \n",
              "  <svg xmlns=\"http://www.w3.org/2000/svg\" height=\"24px\"viewBox=\"0 0 24 24\"\n",
              "       width=\"24px\">\n",
              "    <path d=\"M0 0h24v24H0V0z\" fill=\"none\"/>\n",
              "    <path d=\"M18.56 5.44l.94 2.06.94-2.06 2.06-.94-2.06-.94-.94-2.06-.94 2.06-2.06.94zm-11 1L8.5 8.5l.94-2.06 2.06-.94-2.06-.94L8.5 2.5l-.94 2.06-2.06.94zm10 10l.94 2.06.94-2.06 2.06-.94-2.06-.94-.94-2.06-.94 2.06-2.06.94z\"/><path d=\"M17.41 7.96l-1.37-1.37c-.4-.4-.92-.59-1.43-.59-.52 0-1.04.2-1.43.59L10.3 9.45l-7.72 7.72c-.78.78-.78 2.05 0 2.83L4 21.41c.39.39.9.59 1.41.59.51 0 1.02-.2 1.41-.59l7.78-7.78 2.81-2.81c.8-.78.8-2.07 0-2.86zM5.41 20L4 18.59l7.72-7.72 1.47 1.35L5.41 20z\"/>\n",
              "  </svg>\n",
              "      </button>\n",
              "      \n",
              "  <style>\n",
              "    .colab-df-container {\n",
              "      display:flex;\n",
              "      flex-wrap:wrap;\n",
              "      gap: 12px;\n",
              "    }\n",
              "\n",
              "    .colab-df-convert {\n",
              "      background-color: #E8F0FE;\n",
              "      border: none;\n",
              "      border-radius: 50%;\n",
              "      cursor: pointer;\n",
              "      display: none;\n",
              "      fill: #1967D2;\n",
              "      height: 32px;\n",
              "      padding: 0 0 0 0;\n",
              "      width: 32px;\n",
              "    }\n",
              "\n",
              "    .colab-df-convert:hover {\n",
              "      background-color: #E2EBFA;\n",
              "      box-shadow: 0px 1px 2px rgba(60, 64, 67, 0.3), 0px 1px 3px 1px rgba(60, 64, 67, 0.15);\n",
              "      fill: #174EA6;\n",
              "    }\n",
              "\n",
              "    [theme=dark] .colab-df-convert {\n",
              "      background-color: #3B4455;\n",
              "      fill: #D2E3FC;\n",
              "    }\n",
              "\n",
              "    [theme=dark] .colab-df-convert:hover {\n",
              "      background-color: #434B5C;\n",
              "      box-shadow: 0px 1px 3px 1px rgba(0, 0, 0, 0.15);\n",
              "      filter: drop-shadow(0px 1px 2px rgba(0, 0, 0, 0.3));\n",
              "      fill: #FFFFFF;\n",
              "    }\n",
              "  </style>\n",
              "\n",
              "      <script>\n",
              "        const buttonEl =\n",
              "          document.querySelector('#df-5ba56d9f-f8ea-44c1-831d-07a7fc34a186 button.colab-df-convert');\n",
              "        buttonEl.style.display =\n",
              "          google.colab.kernel.accessAllowed ? 'block' : 'none';\n",
              "\n",
              "        async function convertToInteractive(key) {\n",
              "          const element = document.querySelector('#df-5ba56d9f-f8ea-44c1-831d-07a7fc34a186');\n",
              "          const dataTable =\n",
              "            await google.colab.kernel.invokeFunction('convertToInteractive',\n",
              "                                                     [key], {});\n",
              "          if (!dataTable) return;\n",
              "\n",
              "          const docLinkHtml = 'Like what you see? Visit the ' +\n",
              "            '<a target=\"_blank\" href=https://colab.research.google.com/notebooks/data_table.ipynb>data table notebook</a>'\n",
              "            + ' to learn more about interactive tables.';\n",
              "          element.innerHTML = '';\n",
              "          dataTable['output_type'] = 'display_data';\n",
              "          await google.colab.output.renderOutput(dataTable, element);\n",
              "          const docLink = document.createElement('div');\n",
              "          docLink.innerHTML = docLinkHtml;\n",
              "          element.appendChild(docLink);\n",
              "        }\n",
              "      </script>\n",
              "    </div>\n",
              "  </div>\n",
              "  "
            ],
            "text/plain": [
              "      -0.11252183  -2.8272038  -3.7738969  -4.3497511  -4.376041  -3.4749863  \\\n",
              "0       -1.100878   -3.996840   -4.285843   -4.506579  -4.022377   -3.234368   \n",
              "1       -0.567088   -2.593450   -3.874230   -4.584095  -4.187449   -3.151462   \n",
              "2        0.490473   -1.914407   -3.616364   -4.318823  -4.268016   -3.881110   \n",
              "3        0.800232   -0.874252   -2.384761   -3.973292  -4.338224   -3.802422   \n",
              "4       -1.507674   -3.574550   -4.478011   -4.408275  -3.321242   -2.105171   \n",
              "...           ...         ...         ...         ...        ...         ...   \n",
              "4992     0.608558   -0.335651   -0.990948   -1.784153  -2.626145   -2.957065   \n",
              "4993    -2.060402   -2.860116   -3.405074   -3.748719  -3.513561   -3.006545   \n",
              "4994    -1.122969   -2.252925   -2.867628   -3.358605  -3.167849   -2.638360   \n",
              "4995    -0.547705   -1.889545   -2.839779   -3.457912  -3.929149   -3.966026   \n",
              "4996    -1.351779   -2.209006   -2.520225   -3.061475  -3.065141   -3.030739   \n",
              "\n",
              "      -2.1814082  -1.8182865  -1.2505219  -0.47749208  ...  0.79216787  \\\n",
              "0      -1.566126   -0.992258   -0.754680     0.042321  ...    0.538356   \n",
              "1      -1.742940   -1.490659   -1.183580    -0.394229  ...    0.886073   \n",
              "2      -2.993280   -1.671131   -1.333884    -0.965629  ...    0.350816   \n",
              "3      -2.534510   -1.783423   -1.594450    -0.753199  ...    1.148884   \n",
              "4      -1.481048   -1.301362   -0.498240    -0.286928  ...    1.089068   \n",
              "...          ...         ...         ...          ...  ...         ...   \n",
              "4992   -2.931897   -2.664816   -2.090137    -1.461841  ...    1.757705   \n",
              "4993   -2.234850   -1.593270   -1.075279    -0.976047  ...    1.388947   \n",
              "4994   -1.664162   -0.935655   -0.866953    -0.645363  ...   -0.472419   \n",
              "4995   -3.492560   -2.695270   -1.849691    -1.374321  ...    1.258419   \n",
              "4996   -2.622720   -2.044092   -1.295874    -0.733839  ...   -1.512234   \n",
              "\n",
              "      0.93354122  0.79695779  0.57862066  0.2577399  0.22807718  0.12343082  \\\n",
              "0       0.656881    0.787490    0.724046   0.555784    0.476333    0.773820   \n",
              "1       0.531452    0.311377   -0.021919  -0.713683   -0.532197    0.321097   \n",
              "2       0.499111    0.600345    0.842069   0.952074    0.990133    1.086798   \n",
              "3       0.958434    1.059025    1.371682   1.277392    0.960304    0.971020   \n",
              "4       0.983369    1.014124    0.952629   0.749326    1.007076    1.634990   \n",
              "...          ...         ...         ...        ...         ...         ...   \n",
              "4992    2.291923    2.704595    2.451519   2.017396    1.704358    1.688542   \n",
              "4993    2.079675    2.433375    2.159484   1.819747    1.534767    1.696818   \n",
              "4994   -1.310147   -2.029521   -3.221294  -4.176790   -4.009720   -2.874136   \n",
              "4995    1.907530    2.280888    1.895242   1.437702    1.193433    1.261335   \n",
              "4996   -2.076075   -2.586042   -3.322799  -3.627311   -3.437038   -2.260023   \n",
              "\n",
              "      0.92528624  0.19313742  1.0  \n",
              "0       1.119621   -1.436250  1.0  \n",
              "1       0.904227   -0.421797  1.0  \n",
              "2       1.403011   -0.383564  1.0  \n",
              "3       1.614392    1.421456  1.0  \n",
              "4       1.493365   -0.783134  1.0  \n",
              "...          ...         ...  ...  \n",
              "4992    1.629593    1.342651  0.0  \n",
              "4993    1.483832    1.047612  0.0  \n",
              "4994   -2.008369   -1.808334  0.0  \n",
              "4995    1.150449    0.804932  0.0  \n",
              "4996   -1.577823   -0.684531  0.0  \n",
              "\n",
              "[4997 rows x 141 columns]"
            ]
          },
          "execution_count": 15,
          "metadata": {},
          "output_type": "execute_result"
        }
      ],
      "source": [
        "data=pd.read_csv('/content/drive/MyDrive/ecg.csv')\n",
        "data"
      ]
    },
    {
      "cell_type": "code",
      "execution_count": 16,
      "metadata": {
        "colab": {
          "base_uri": "https://localhost:8080/"
        },
        "id": "TKYp7vIPMPYq",
        "outputId": "3e133c6f-61a7-4c2a-99fb-ba8213c0e843"
      },
      "outputs": [
        {
          "data": {
            "text/plain": [
              "Index(['-0.11252183', '-2.8272038', '-3.7738969', '-4.3497511', '-4.376041',\n",
              "       '-3.4749863', '-2.1814082', '-1.8182865', '-1.2505219', '-0.47749208',\n",
              "       ...\n",
              "       '0.79216787', '0.93354122', '0.79695779', '0.57862066', '0.2577399',\n",
              "       '0.22807718', '0.12343082', '0.92528624', '0.19313742', '1.0'],\n",
              "      dtype='object', length=141)"
            ]
          },
          "execution_count": 16,
          "metadata": {},
          "output_type": "execute_result"
        }
      ],
      "source": [
        "data.columns"
      ]
    },
    {
      "cell_type": "code",
      "execution_count": 17,
      "metadata": {
        "id": "KjWybyJCLZMc"
      },
      "outputs": [],
      "source": [
        "c=[]\n",
        "for i in range(1,142):\n",
        "  if i<141:\n",
        "    c.append('ecg '+str(i))\n",
        "  else:\n",
        "    c.append('target')\n"
      ]
    },
    {
      "cell_type": "code",
      "execution_count": 18,
      "metadata": {
        "id": "vA8fpOngLzZD"
      },
      "outputs": [],
      "source": [
        "data.columns=c"
      ]
    },
    {
      "cell_type": "code",
      "execution_count": 19,
      "metadata": {
        "colab": {
          "base_uri": "https://localhost:8080/"
        },
        "id": "gjaMpXyPMNZT",
        "outputId": "e3605303-ad20-483f-8695-31a7ea522f18"
      },
      "outputs": [
        {
          "data": {
            "text/plain": [
              "Index(['ecg 1', 'ecg 2', 'ecg 3', 'ecg 4', 'ecg 5', 'ecg 6', 'ecg 7', 'ecg 8',\n",
              "       'ecg 9', 'ecg 10',\n",
              "       ...\n",
              "       'ecg 132', 'ecg 133', 'ecg 134', 'ecg 135', 'ecg 136', 'ecg 137',\n",
              "       'ecg 138', 'ecg 139', 'ecg 140', 'target'],\n",
              "      dtype='object', length=141)"
            ]
          },
          "execution_count": 19,
          "metadata": {},
          "output_type": "execute_result"
        }
      ],
      "source": [
        "data.columns"
      ]
    },
    {
      "cell_type": "code",
      "execution_count": 22,
      "metadata": {
        "id": "jxmbE0ZOMbEj"
      },
      "outputs": [],
      "source": [
        "x=data.drop('target',axis=1)\n",
        "y=data['target'].values\n",
        "x=scale(x)"
      ]
    },
    {
      "cell_type": "code",
      "execution_count": 24,
      "metadata": {
        "id": "bFJunZKFMr1r"
      },
      "outputs": [],
      "source": [
        "x_train,x_test,y_train,y_test=tts(x,y,test_size=0.2,random_state=42)"
      ]
    },
    {
      "cell_type": "code",
      "execution_count": 26,
      "metadata": {
        "id": "Siz5WF2yNMvT"
      },
      "outputs": [],
      "source": [
        "models={\n",
        "    'LogisticRegression':LogisticRegression(),\n",
        "    'KNeighborsClassifier':KNeighborsClassifier(n_neighbors=4),\n",
        "    'DecisionTreeClassifier':DecisionTreeClassifier(),\n",
        "    'SVC(kernel=linear)':SVC(kernel='linear'),\n",
        "    'SVC(kernel=poly)':SVC(kernel='poly'),\n",
        "    'SVC(kernel=rbf)':SVC(kernel='rbf'),\n",
        "    'GaussianNB':GaussianNB(),\n",
        "    'RandomForestClassifier':RandomForestClassifier(),\n",
        "    'AdaBoostClassifier':AdaBoostClassifier(),\n",
        "    'GradientBoostingClassifier':GradientBoostingClassifier(),\n",
        "    'MLPClassifier':MLPClassifier()\n",
        "}"
      ]
    },
    {
      "cell_type": "code",
      "execution_count": 30,
      "metadata": {
        "colab": {
          "base_uri": "https://localhost:8080/"
        },
        "id": "DOb9klaFOiaD",
        "outputId": "0ec69329-2baf-4bb4-8a4e-2dd10dfe7bf7"
      },
      "outputs": [
        {
          "data": {
            "text/plain": [
              "dict_items([('LogisticRegression', LogisticRegression()), ('KNeighborsClassifier', KNeighborsClassifier(n_neighbors=4)), ('DecisionTreeClassifier', DecisionTreeClassifier()), ('SVC(kernel=linear)', SVC(kernel='linear')), ('SVC(kernel=poly)', SVC(kernel='poly')), ('SVC(kernel=rbf)', SVC()), ('GaussianNB', GaussianNB()), ('RandomForestClassifier', RandomForestClassifier()), ('AdaBoostClassifier', AdaBoostClassifier()), ('GradientBoostingClassifier', GradientBoostingClassifier()), ('MLPClassifier', MLPClassifier())])"
            ]
          },
          "execution_count": 30,
          "metadata": {},
          "output_type": "execute_result"
        }
      ],
      "source": [
        "models.items()"
      ]
    },
    {
      "cell_type": "code",
      "execution_count": 42,
      "metadata": {
        "id": "GEfmB6tLM39S"
      },
      "outputs": [],
      "source": [
        "def fit_and_score(models,x_train,x_test,y_train,y_test):\n",
        "  model_score={}\n",
        "\n",
        "  for name,model in models.items():\n",
        "    model.fit(x_train,y_train)\n",
        "    model_score[name]=model.score(x_test,y_test)*100\n",
        "\n",
        "  model_scores=pd.DataFrame(model_score,index=['Score']).transpose()\n",
        "  model_scores=model_scores.sort_values('Score')\n",
        "\n",
        "  return model_scores\n"
      ]
    },
    {
      "cell_type": "code",
      "execution_count": 43,
      "metadata": {
        "colab": {
          "base_uri": "https://localhost:8080/"
        },
        "id": "I1W4cKXKP2pj",
        "outputId": "d2aec2c8-b7be-4b1f-df60-8b91651ee138"
      },
      "outputs": [
        {
          "name": "stderr",
          "output_type": "stream",
          "text": [
            "/usr/local/lib/python3.7/dist-packages/sklearn/linear_model/_logistic.py:818: ConvergenceWarning: lbfgs failed to converge (status=1):\n",
            "STOP: TOTAL NO. of ITERATIONS REACHED LIMIT.\n",
            "\n",
            "Increase the number of iterations (max_iter) or scale the data as shown in:\n",
            "    https://scikit-learn.org/stable/modules/preprocessing.html\n",
            "Please also refer to the documentation for alternative solver options:\n",
            "    https://scikit-learn.org/stable/modules/linear_model.html#logistic-regression\n",
            "  extra_warning_msg=_LOGISTIC_SOLVER_CONVERGENCE_MSG,\n"
          ]
        }
      ],
      "source": [
        "model_basline=fit_and_score(models,x_train,x_test,y_train,y_test)"
      ]
    },
    {
      "cell_type": "code",
      "execution_count": 44,
      "metadata": {
        "colab": {
          "base_uri": "https://localhost:8080/",
          "height": 394
        },
        "id": "biNnSNSCREca",
        "outputId": "7e0fecaf-b3fb-4c25-acf9-1d3cb3c529f4"
      },
      "outputs": [
        {
          "data": {
            "text/html": [
              "\n",
              "  <div id=\"df-63185057-0ed1-4890-9029-9b5583a489cd\">\n",
              "    <div class=\"colab-df-container\">\n",
              "      <div>\n",
              "<style scoped>\n",
              "    .dataframe tbody tr th:only-of-type {\n",
              "        vertical-align: middle;\n",
              "    }\n",
              "\n",
              "    .dataframe tbody tr th {\n",
              "        vertical-align: top;\n",
              "    }\n",
              "\n",
              "    .dataframe thead th {\n",
              "        text-align: right;\n",
              "    }\n",
              "</style>\n",
              "<table border=\"1\" class=\"dataframe\">\n",
              "  <thead>\n",
              "    <tr style=\"text-align: right;\">\n",
              "      <th></th>\n",
              "      <th>Score</th>\n",
              "    </tr>\n",
              "  </thead>\n",
              "  <tbody>\n",
              "    <tr>\n",
              "      <th>GaussianNB</th>\n",
              "      <td>95.8</td>\n",
              "    </tr>\n",
              "    <tr>\n",
              "      <th>DecisionTreeClassifier</th>\n",
              "      <td>97.7</td>\n",
              "    </tr>\n",
              "    <tr>\n",
              "      <th>LogisticRegression</th>\n",
              "      <td>98.2</td>\n",
              "    </tr>\n",
              "    <tr>\n",
              "      <th>SVC(kernel=linear)</th>\n",
              "      <td>98.2</td>\n",
              "    </tr>\n",
              "    <tr>\n",
              "      <th>KNeighborsClassifier</th>\n",
              "      <td>98.3</td>\n",
              "    </tr>\n",
              "    <tr>\n",
              "      <th>SVC(kernel=poly)</th>\n",
              "      <td>98.4</td>\n",
              "    </tr>\n",
              "    <tr>\n",
              "      <th>RandomForestClassifier</th>\n",
              "      <td>98.8</td>\n",
              "    </tr>\n",
              "    <tr>\n",
              "      <th>AdaBoostClassifier</th>\n",
              "      <td>98.8</td>\n",
              "    </tr>\n",
              "    <tr>\n",
              "      <th>GradientBoostingClassifier</th>\n",
              "      <td>98.8</td>\n",
              "    </tr>\n",
              "    <tr>\n",
              "      <th>SVC(kernel=rbf)</th>\n",
              "      <td>98.9</td>\n",
              "    </tr>\n",
              "    <tr>\n",
              "      <th>MLPClassifier</th>\n",
              "      <td>99.0</td>\n",
              "    </tr>\n",
              "  </tbody>\n",
              "</table>\n",
              "</div>\n",
              "      <button class=\"colab-df-convert\" onclick=\"convertToInteractive('df-63185057-0ed1-4890-9029-9b5583a489cd')\"\n",
              "              title=\"Convert this dataframe to an interactive table.\"\n",
              "              style=\"display:none;\">\n",
              "        \n",
              "  <svg xmlns=\"http://www.w3.org/2000/svg\" height=\"24px\"viewBox=\"0 0 24 24\"\n",
              "       width=\"24px\">\n",
              "    <path d=\"M0 0h24v24H0V0z\" fill=\"none\"/>\n",
              "    <path d=\"M18.56 5.44l.94 2.06.94-2.06 2.06-.94-2.06-.94-.94-2.06-.94 2.06-2.06.94zm-11 1L8.5 8.5l.94-2.06 2.06-.94-2.06-.94L8.5 2.5l-.94 2.06-2.06.94zm10 10l.94 2.06.94-2.06 2.06-.94-2.06-.94-.94-2.06-.94 2.06-2.06.94z\"/><path d=\"M17.41 7.96l-1.37-1.37c-.4-.4-.92-.59-1.43-.59-.52 0-1.04.2-1.43.59L10.3 9.45l-7.72 7.72c-.78.78-.78 2.05 0 2.83L4 21.41c.39.39.9.59 1.41.59.51 0 1.02-.2 1.41-.59l7.78-7.78 2.81-2.81c.8-.78.8-2.07 0-2.86zM5.41 20L4 18.59l7.72-7.72 1.47 1.35L5.41 20z\"/>\n",
              "  </svg>\n",
              "      </button>\n",
              "      \n",
              "  <style>\n",
              "    .colab-df-container {\n",
              "      display:flex;\n",
              "      flex-wrap:wrap;\n",
              "      gap: 12px;\n",
              "    }\n",
              "\n",
              "    .colab-df-convert {\n",
              "      background-color: #E8F0FE;\n",
              "      border: none;\n",
              "      border-radius: 50%;\n",
              "      cursor: pointer;\n",
              "      display: none;\n",
              "      fill: #1967D2;\n",
              "      height: 32px;\n",
              "      padding: 0 0 0 0;\n",
              "      width: 32px;\n",
              "    }\n",
              "\n",
              "    .colab-df-convert:hover {\n",
              "      background-color: #E2EBFA;\n",
              "      box-shadow: 0px 1px 2px rgba(60, 64, 67, 0.3), 0px 1px 3px 1px rgba(60, 64, 67, 0.15);\n",
              "      fill: #174EA6;\n",
              "    }\n",
              "\n",
              "    [theme=dark] .colab-df-convert {\n",
              "      background-color: #3B4455;\n",
              "      fill: #D2E3FC;\n",
              "    }\n",
              "\n",
              "    [theme=dark] .colab-df-convert:hover {\n",
              "      background-color: #434B5C;\n",
              "      box-shadow: 0px 1px 3px 1px rgba(0, 0, 0, 0.15);\n",
              "      filter: drop-shadow(0px 1px 2px rgba(0, 0, 0, 0.3));\n",
              "      fill: #FFFFFF;\n",
              "    }\n",
              "  </style>\n",
              "\n",
              "      <script>\n",
              "        const buttonEl =\n",
              "          document.querySelector('#df-63185057-0ed1-4890-9029-9b5583a489cd button.colab-df-convert');\n",
              "        buttonEl.style.display =\n",
              "          google.colab.kernel.accessAllowed ? 'block' : 'none';\n",
              "\n",
              "        async function convertToInteractive(key) {\n",
              "          const element = document.querySelector('#df-63185057-0ed1-4890-9029-9b5583a489cd');\n",
              "          const dataTable =\n",
              "            await google.colab.kernel.invokeFunction('convertToInteractive',\n",
              "                                                     [key], {});\n",
              "          if (!dataTable) return;\n",
              "\n",
              "          const docLinkHtml = 'Like what you see? Visit the ' +\n",
              "            '<a target=\"_blank\" href=https://colab.research.google.com/notebooks/data_table.ipynb>data table notebook</a>'\n",
              "            + ' to learn more about interactive tables.';\n",
              "          element.innerHTML = '';\n",
              "          dataTable['output_type'] = 'display_data';\n",
              "          await google.colab.output.renderOutput(dataTable, element);\n",
              "          const docLink = document.createElement('div');\n",
              "          docLink.innerHTML = docLinkHtml;\n",
              "          element.appendChild(docLink);\n",
              "        }\n",
              "      </script>\n",
              "    </div>\n",
              "  </div>\n",
              "  "
            ],
            "text/plain": [
              "                            Score\n",
              "GaussianNB                   95.8\n",
              "DecisionTreeClassifier       97.7\n",
              "LogisticRegression           98.2\n",
              "SVC(kernel=linear)           98.2\n",
              "KNeighborsClassifier         98.3\n",
              "SVC(kernel=poly)             98.4\n",
              "RandomForestClassifier       98.8\n",
              "AdaBoostClassifier           98.8\n",
              "GradientBoostingClassifier   98.8\n",
              "SVC(kernel=rbf)              98.9\n",
              "MLPClassifier                99.0"
            ]
          },
          "execution_count": 44,
          "metadata": {},
          "output_type": "execute_result"
        }
      ],
      "source": [
        "model_basline"
      ]
    },
    {
      "cell_type": "code",
      "execution_count": 47,
      "metadata": {
        "colab": {
          "base_uri": "https://localhost:8080/",
          "height": 631
        },
        "id": "c6KtC6DbRffC",
        "outputId": "aae5fdd5-e4f0-4a64-9290-91ca2706fee1"
      },
      "outputs": [
        {
          "data": {
            "image/png": "[encoded data removed]",
            "text/plain": [
              "<Figure size 1000x500 with 1 Axes>"
            ]
          },
          "metadata": {
            "needs_background": "light"
          },
          "output_type": "display_data"
        }
      ],
      "source": [
        "import seaborn as sns\n",
        "plt.figure(figsize=(10,5),dpi=100)\n",
        "sns.barplot(data=model_basline.T)\n",
        "plt.xticks(rotation=90)\n",
        "plt.title('Models Scores for ECG Classification')\n",
        "plt.show()\n"
      ]
    },
    {
      "cell_type": "markdown",
      "metadata": {
        "id": "ib4_u_FoYSdS"
      },
      "source": [
        "Clustering"
      ]
    },
    {
      "cell_type": "code",
      "execution_count": 91,
      "metadata": {
        "colab": {
          "base_uri": "https://localhost:8080/"
        },
        "id": "gx9-X_XTYT0J",
        "outputId": "ffa88432-bac1-4134-ea21-326505060c7d"
      },
      "outputs": [
        {
          "data": {
            "text/plain": [
              "array([0, 0, 0, 0, 0, 0, 0, 0, 0, 0, 0, 0, 0, 0, 0, 0, 0, 0, 0, 0, 0, 0,\n",
              "       0, 0, 0, 0, 0, 0, 0, 0, 0, 0, 0, 0, 0, 0, 0, 0, 0, 0, 0, 0, 0, 0,\n",
              "       0, 0, 0, 0, 0, 0, 1, 1, 2, 1, 1, 1, 1, 1, 1, 1, 1, 1, 1, 1, 1, 1,\n",
              "       1, 1, 1, 1, 1, 1, 1, 1, 1, 1, 1, 2, 1, 1, 1, 1, 1, 1, 1, 1, 1, 1,\n",
              "       1, 1, 1, 1, 1, 1, 1, 1, 1, 1, 1, 1, 2, 1, 2, 2, 2, 2, 1, 2, 2, 2,\n",
              "       2, 2, 2, 1, 1, 2, 2, 2, 2, 1, 2, 1, 2, 1, 2, 2, 1, 1, 2, 2, 2, 2,\n",
              "       2, 1, 2, 2, 2, 2, 1, 2, 2, 2, 1, 2, 2, 2, 1, 2, 2, 1], dtype=int32)"
            ]
          },
          "execution_count": 91,
          "metadata": {},
          "output_type": "execute_result"
        }
      ],
      "source": [
        "from sklearn.datasets import load_iris\n",
        "from sklearn.cluster import KMeans\n",
        "iris=load_iris()\n",
        "km=KMeans(n_clusters=3)\n",
        "km.fit(iris.data)\n",
        "yc=km.predict(iris.data)\n",
        "yc"
      ]
    },
    {
      "cell_type": "code",
      "execution_count": 92,
      "metadata": {
        "colab": {
          "base_uri": "https://localhost:8080/",
          "height": 265
        },
        "id": "cak7x3MJZFtK",
        "outputId": "6e39d3dc-3eb6-4eb3-8d63-d038744b48ad"
      },
      "outputs": [
        {
          "data": {
            "image/png": "[encoded data removed]",
            "text/plain": [
              "<Figure size 432x288 with 1 Axes>"
            ]
          },
          "metadata": {
            "needs_background": "light"
          },
          "output_type": "display_data"
        }
      ],
      "source": [
        "xs=iris.data[:,0]\n",
        "ys=iris.data[:,2]\n",
        "plt.scatter(xs,ys,c=yc)\n",
        "plt.show()"
      ]
    },
    {
      "cell_type": "code",
      "execution_count": 93,
      "metadata": {
        "colab": {
          "base_uri": "https://localhost:8080/",
          "height": 265
        },
        "id": "xPDMyLsTZfPB",
        "outputId": "42715afd-2d3c-45a4-fa5a-4490c6acb6e5"
      },
      "outputs": [
        {
          "data": {
            "image/png": "[encoded data removed]",
            "text/plain": [
              "<Figure size 432x288 with 1 Axes>"
            ]
          },
          "metadata": {
            "needs_background": "light"
          },
          "output_type": "display_data"
        }
      ],
      "source": [
        "xs=iris.data[:,1]\n",
        "ys=iris.data[:,3]\n",
        "plt.scatter(xs,ys,c=yc)\n",
        "plt.show()"
      ]
    },
    {
      "cell_type": "code",
      "execution_count": 94,
      "metadata": {
        "colab": {
          "base_uri": "https://localhost:8080/",
          "height": 265
        },
        "id": "TMCdqPcyZjhq",
        "outputId": "f9924427-4fb1-4f16-a306-20022872499c"
      },
      "outputs": [
        {
          "data": {
            "image/png": "[encoded data removed]",
            "text/plain": [
              "<Figure size 432x288 with 1 Axes>"
            ]
          },
          "metadata": {
            "needs_background": "light"
          },
          "output_type": "display_data"
        }
      ],
      "source": [
        "xs=iris.data[:,1]\n",
        "ys=iris.data[:,2]\n",
        "plt.scatter(xs,ys,c=yc)\n",
        "plt.show()"
      ]
    },
    {
      "cell_type": "code",
      "execution_count": 95,
      "metadata": {
        "id": "_fw5i-8ZZ25R"
      },
      "outputs": [],
      "source": [
        "i=[]\n",
        "for k in range(1,9):\n",
        "  iris=load_iris()\n",
        "  km=KMeans(n_clusters=k)\n",
        "  km.fit(iris.data)\n",
        "  i.append(km.inertia_)"
      ]
    },
    {
      "cell_type": "code",
      "execution_count": 96,
      "metadata": {
        "colab": {
          "base_uri": "https://localhost:8080/"
        },
        "id": "7RrfyzFvaP-S",
        "outputId": "8325b345-d3e5-418a-f39a-0ea0a460d2c0"
      },
      "outputs": [
        {
          "data": {
            "text/plain": [
              "[681.3706,\n",
              " 152.3479517603579,\n",
              " 78.851441426146,\n",
              " 57.25600931571816,\n",
              " 46.446182051282065,\n",
              " 39.21125347985349,\n",
              " 34.34316797237851,\n",
              " 30.318268624650216]"
            ]
          },
          "execution_count": 96,
          "metadata": {},
          "output_type": "execute_result"
        }
      ],
      "source": [
        "i"
      ]
    },
    {
      "cell_type": "code",
      "execution_count": 97,
      "metadata": {
        "colab": {
          "base_uri": "https://localhost:8080/",
          "height": 280
        },
        "id": "3gLpdQavabCy",
        "outputId": "7f5b8675-32ab-4780-ae79-bbbaaffc2b68"
      },
      "outputs": [
        {
          "data": {
            "image/png": "[encoded data removed]",
            "text/plain": [
              "<Figure size 432x288 with 1 Axes>"
            ]
          },
          "metadata": {
            "needs_background": "light"
          },
          "output_type": "display_data"
        }
      ],
      "source": [
        "plt.plot(i)\n",
        "plt.xlabel('n_cluster')\n",
        "plt.ylabel('interia')\n",
        "plt.show()"
      ]
    },
    {
      "cell_type": "code",
      "execution_count": 98,
      "metadata": {
        "colab": {
          "base_uri": "https://localhost:8080/"
        },
        "id": "oMGgJ3XBanP5",
        "outputId": "d949e286-f6f3-4655-9a81-4f9b58d3b7e9"
      },
      "outputs": [
        {
          "data": {
            "text/plain": [
              "array([0, 0, 0, 0, 0, 0, 0, 0, 0, 0, 0, 0, 0, 0, 0, 0, 0, 0, 0, 0, 0, 0,\n",
              "       0, 0, 0, 0, 0, 0, 0, 0, 0, 0, 0, 0, 0, 0, 0, 0, 0, 0, 0, 0, 0, 0,\n",
              "       0, 0, 0, 0, 0, 0, 1, 1, 1, 1, 1, 1, 1, 1, 1, 1, 1, 1, 1, 1, 1, 1,\n",
              "       1, 1, 1, 1, 1, 1, 1, 1, 1, 1, 1, 1, 1, 1, 1, 1, 1, 1, 1, 1, 1, 1,\n",
              "       1, 1, 1, 1, 1, 1, 1, 1, 1, 1, 1, 1, 2, 2, 2, 2, 2, 2, 2, 2, 2, 2,\n",
              "       2, 2, 2, 2, 2, 2, 2, 2, 2, 2, 2, 2, 2, 2, 2, 2, 2, 2, 2, 2, 2, 2,\n",
              "       2, 2, 2, 2, 2, 2, 2, 2, 2, 2, 2, 2, 2, 2, 2, 2, 2, 2])"
            ]
          },
          "execution_count": 98,
          "metadata": {},
          "output_type": "execute_result"
        }
      ],
      "source": [
        "y=iris.target\n",
        "y"
      ]
    },
    {
      "cell_type": "code",
      "execution_count": 99,
      "metadata": {
        "colab": {
          "base_uri": "https://localhost:8080/"
        },
        "id": "qdQHgWTAavzy",
        "outputId": "f9f2782b-87a7-46e6-fac0-ddf515a7499b"
      },
      "outputs": [
        {
          "name": "stdout",
          "output_type": "stream",
          "text": [
            "[[50  0  0]\n",
            " [ 0 48  2]\n",
            " [ 0 14 36]]\n"
          ]
        }
      ],
      "source": [
        "from sklearn.metrics import classification_report ,confusion_matrix\n",
        "cm=confusion_matrix(y,yc)\n",
        "print(cm)"
      ]
    },
    {
      "cell_type": "code",
      "execution_count": 100,
      "metadata": {
        "colab": {
          "base_uri": "https://localhost:8080/"
        },
        "id": "QUaoYyKwbAQ5",
        "outputId": "c97cf2ad-193d-40bd-f156-fc7a6262008f"
      },
      "outputs": [
        {
          "name": "stdout",
          "output_type": "stream",
          "text": [
            "              precision    recall  f1-score   support\n",
            "\n",
            "           0       1.00      1.00      1.00        50\n",
            "           1       0.77      0.96      0.86        50\n",
            "           2       0.95      0.72      0.82        50\n",
            "\n",
            "    accuracy                           0.89       150\n",
            "   macro avg       0.91      0.89      0.89       150\n",
            "weighted avg       0.91      0.89      0.89       150\n",
            "\n"
          ]
        }
      ],
      "source": [
        "cr=classification_report(y,yc)\n",
        "print(cr)"
      ]
    }
  ],
  "metadata": {
    "colab": {
      "name": "DS-S16.ipynb",
      "provenance": []
    },
    "kernelspec": {
      "display_name": "Python 3",
      "name": "python3"
    },
    "language_info": {
      "name": "python"
    }
  },
  "nbformat": 4,
  "nbformat_minor": 0
}
